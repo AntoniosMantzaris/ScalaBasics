{
 "cells": [
  {
   "cell_type": "markdown",
   "id": "50341ed2-a539-43f2-a20c-8e97652ec92e",
   "metadata": {
    "jp-MarkdownHeadingCollapsed": true,
    "tags": []
   },
   "source": [
    "## Object/function-->Hello world"
   ]
  },
  {
   "cell_type": "code",
   "execution_count": 1,
   "id": "900236d0-7e9c-49e2-a084-c8242192ad79",
   "metadata": {},
   "outputs": [
    {
     "data": {
      "text/plain": [
       "Intitializing Scala interpreter ..."
      ]
     },
     "metadata": {},
     "output_type": "display_data"
    },
    {
     "data": {
      "text/plain": [
       "Spark Web UI available at http://23a0de2227b9:4040\n",
       "SparkContext available as 'sc' (version = 3.2.1, master = local[*], app id = local-1653577026489)\n",
       "SparkSession available as 'spark'\n"
      ]
     },
     "metadata": {},
     "output_type": "display_data"
    },
    {
     "data": {
      "text/plain": [
       "defined object HelloWorld\n"
      ]
     },
     "execution_count": 1,
     "metadata": {},
     "output_type": "execute_result"
    }
   ],
   "source": [
    "object HelloWorld {\n",
    "def main(args: Array[String]) {\n",
    "println(\"Hello, world!\")\n",
    "}\n",
    "}"
   ]
  },
  {
   "cell_type": "code",
   "execution_count": 3,
   "id": "628a8b1f-a8b3-479b-940d-bdfa4f34d65e",
   "metadata": {},
   "outputs": [
    {
     "name": "stdout",
     "output_type": "stream",
     "text": [
      "Hello, world!\n"
     ]
    }
   ],
   "source": [
    "HelloWorld.main(null)"
   ]
  },
  {
   "cell_type": "code",
   "execution_count": 36,
   "id": "5520dbf5-a363-4201-8126-c761f4858f51",
   "metadata": {},
   "outputs": [
    {
     "data": {
      "text/plain": [
       "defined object HelloName\n"
      ]
     },
     "execution_count": 36,
     "metadata": {},
     "output_type": "execute_result"
    }
   ],
   "source": [
    "object HelloName {\n",
    "    def main(name: String) {\n",
    "        println(s\"Hello $name\")\n",
    "    }\n",
    "}"
   ]
  },
  {
   "cell_type": "code",
   "execution_count": 37,
   "id": "9b834ede-71e3-45d5-aec7-f8a494b5c990",
   "metadata": {},
   "outputs": [
    {
     "name": "stdout",
     "output_type": "stream",
     "text": [
      "Hello Antonios\n"
     ]
    }
   ],
   "source": [
    "HelloName.main(\"Antonios\")"
   ]
  },
  {
   "cell_type": "markdown",
   "id": "c7364dad-cc64-44c4-ac1a-b04617ae28f9",
   "metadata": {
    "jp-MarkdownHeadingCollapsed": true,
    "tags": []
   },
   "source": [
    "## Functions"
   ]
  },
  {
   "cell_type": "markdown",
   "id": "5c85a824-926e-4f7b-a00b-2fb159a682c6",
   "metadata": {},
   "source": [
    "1st: def name(input):output_type={...}   //can skip the output type\n",
    "\n",
    "2nd: var name = (input)=>output\n",
    "\n",
    "3rd: def name(funtion2_name:in_type=>out_type, other_input)=output\n",
    "\n",
    "Return: if \"=\" is put between input and fucntion body then a value should be returned\n",
    "\n",
    "Input call: x:Int-->assignment at the beginning\n",
    "            \n",
    "            x:=>Int-->assignment when x is called within this function"
   ]
  },
  {
   "cell_type": "code",
   "execution_count": 35,
   "id": "9e98ac43-4dd5-44b7-a160-69f7b6e0989a",
   "metadata": {},
   "outputs": [
    {
     "data": {
      "text/plain": [
       "summation: (a: Int, b: Int)Int\n"
      ]
     },
     "execution_count": 35,
     "metadata": {},
     "output_type": "execute_result"
    }
   ],
   "source": [
    "def summation(a:Int,b:Int):Int={   //:Int is optional to declare if its obvious the return type\n",
    "    var c: Int=1\n",
    "    //c=2 change value of variable\n",
    "    println(\"I will add the given numbers and return the result minus 1\")\n",
    "    a+b-c  //doesn't need return but a value that is not assigned to any variable and matches the output type\n",
    "}"
   ]
  },
  {
   "cell_type": "code",
   "execution_count": 36,
   "id": "2a6b0876-dd4e-4599-a8cf-b1545137bf1e",
   "metadata": {},
   "outputs": [
    {
     "name": "stdout",
     "output_type": "stream",
     "text": [
      "I will add the given numbers and return the result minus 1\n",
      "sum=4\n"
     ]
    }
   ],
   "source": [
    "println(\"sum=\"+summation(2,3))"
   ]
  },
  {
   "cell_type": "markdown",
   "id": "7993f301-7ec4-4b01-8d77-f99478486718",
   "metadata": {
    "jp-MarkdownHeadingCollapsed": true,
    "tags": []
   },
   "source": [
    "### Recursion"
   ]
  },
  {
   "cell_type": "code",
   "execution_count": 62,
   "id": "02b33646-1e4b-4862-9001-03793b22f65b",
   "metadata": {},
   "outputs": [
    {
     "name": "stdout",
     "output_type": "stream",
     "text": [
      "6\n"
     ]
    },
    {
     "data": {
      "text/plain": [
       "factorial: (i: Int)Int\n"
      ]
     },
     "execution_count": 62,
     "metadata": {},
     "output_type": "execute_result"
    }
   ],
   "source": [
    "def factorial(i: Int): Int = {\n",
    "    def fact(i: Int, accumulator: Int): Int = {\n",
    "        if (i <= 1)\n",
    "            accumulator  //this will be eventually returned, accumulator initally is 1-->2nd:i=2,acc=3-->3rd:i=1,acc=2*3=6\n",
    "        else\n",
    "            fact(i - 1, i* accumulator )\n",
    "        }\n",
    "    fact(i, 1)\n",
    "}\n",
    "println(factorial(3))"
   ]
  },
  {
   "cell_type": "markdown",
   "id": "7189fe39-5cae-4506-aaa4-99db002f3801",
   "metadata": {
    "jp-MarkdownHeadingCollapsed": true,
    "tags": []
   },
   "source": [
    "### Anonymous functions"
   ]
  },
  {
   "cell_type": "code",
   "execution_count": 26,
   "id": "facd3734-91cd-410a-acad-dd42c88b589c",
   "metadata": {},
   "outputs": [
    {
     "name": "stdout",
     "output_type": "stream",
     "text": [
      "result=6\n"
     ]
    },
    {
     "data": {
      "text/plain": [
       "product: (Int, Int) => Int = $Lambda$2130/0x0000000840c8f840@49ca2029\n",
       "res: Int = 6\n"
      ]
     },
     "execution_count": 26,
     "metadata": {},
     "output_type": "execute_result"
    }
   ],
   "source": [
    "var product = (x: Int, y: Int)=>x*y\n",
    "val res = product(2,3) //could be also var\n",
    "println(\"result=\"+res)"
   ]
  },
  {
   "cell_type": "markdown",
   "id": "18913865-def4-4ad6-b142-aa2001932060",
   "metadata": {
    "jp-MarkdownHeadingCollapsed": true,
    "tags": []
   },
   "source": [
    "### Higher Order (other function as input)"
   ]
  },
  {
   "cell_type": "code",
   "execution_count": 24,
   "id": "f772226d-dc3a-4968-b5da-f995b687e536",
   "metadata": {},
   "outputs": [
    {
     "name": "stdout",
     "output_type": "stream",
     "text": [
      "[10]abs\n",
      "[10.5]abs\n"
     ]
    },
    {
     "data": {
      "text/plain": [
       "apply: (f: Int => String, v: Int)String\n",
       "apply2: (f: Double => String, v: Double)String\n",
       "layout: [A](x: A)String\n"
      ]
     },
     "execution_count": 24,
     "metadata": {},
     "output_type": "execute_result"
    }
   ],
   "source": [
    "def apply(f: Int => String, v: Int) = f(v)+\"abs\"  //INPUT: a function having an Int as input and outputs a String, plus an Int  OUTPUT:the output of input function\n",
    "def apply2(f: Double => String, v: Double) = f(v)+\"abs\"\n",
    "def layout[A](x: A) = s\"[$x]\"  //A refers to all types, here both Int and Double\n",
    "println(apply(layout, 10))\n",
    "println(apply2(layout, 10.5))"
   ]
  },
  {
   "cell_type": "code",
   "execution_count": 40,
   "id": "0030263c-0bbc-448f-9ff1-85a53f320093",
   "metadata": {},
   "outputs": [
    {
     "name": "stdout",
     "output_type": "stream",
     "text": [
      "Getting time in nano seconds\n",
      "In delayed method\n",
      "Param: 7650527191148\n",
      "2nd funtion \n",
      "In delayed method\n",
      "Getting time in nano seconds\n",
      "Param: 7650527663172\n"
     ]
    },
    {
     "data": {
      "text/plain": [
       "time: ()Long\n",
       "delayed: (t: Long)Unit\n",
       "delayed2: (t: => Long)Unit\n"
      ]
     },
     "execution_count": 40,
     "metadata": {},
     "output_type": "execute_result"
    }
   ],
   "source": [
    "def time() = {\n",
    "    println(\"Getting time in nano seconds\")\n",
    "    System.nanoTime\n",
    "}\n",
    "\n",
    "def delayed(t : Long) {     //get value (here funtion) at the begining\n",
    "    println(\"In delayed method\")  \n",
    "    println(s\"Param: $t\")\n",
    "}\n",
    "\n",
    "def delayed2(t: => Long) {   //get value (here function) when it is called within this function\n",
    "    println(\"In delayed method\")\n",
    "    println(s\"Param: $t\")\n",
    "}\n",
    "delayed(time())\n",
    "print(\"2nd funtion \\n\")\n",
    "delayed2(time())"
   ]
  },
  {
   "cell_type": "markdown",
   "id": "0fbdcce9-27dc-4426-ac1a-2609da01aca2",
   "metadata": {
    "jp-MarkdownHeadingCollapsed": true,
    "tags": []
   },
   "source": [
    "### Partial applied"
   ]
  },
  {
   "cell_type": "code",
   "execution_count": 2,
   "id": "dccd32c9-3930-49a2-bfb6-63c131dd88d7",
   "metadata": {},
   "outputs": [
    {
     "name": "stdout",
     "output_type": "stream",
     "text": [
      "100"
     ]
    },
    {
     "data": {
      "text/plain": [
       "product: (x: Int, y: Int, z: Int)Int\n",
       "pr_res: (Int, Int) => Int = $Lambda$2009/0x0000000840c2d840@23ac3644\n"
      ]
     },
     "execution_count": 2,
     "metadata": {},
     "output_type": "execute_result"
    }
   ],
   "source": [
    "def product(x:Int, y:Int, z:Int) = x*y*z\n",
    "val pr_res = product(x=2,_:Int, _:Int) //instance of function, we give specific value to one of the inputs and the rest are still variables\n",
    "print(pr_res(5,10))"
   ]
  },
  {
   "cell_type": "markdown",
   "id": "a782ab4b-9046-4206-b71b-a0fbaaf1eca5",
   "metadata": {
    "jp-MarkdownHeadingCollapsed": true,
    "tags": []
   },
   "source": [
    "## Loops/IF"
   ]
  },
  {
   "cell_type": "code",
   "execution_count": 2,
   "id": "0bf99d13-27ee-48c1-a321-acb738f72cf2",
   "metadata": {},
   "outputs": [
    {
     "name": "stdout",
     "output_type": "stream",
     "text": [
      "1\n",
      "2\n",
      "3\n",
      "4\n",
      "5\n"
     ]
    }
   ],
   "source": [
    "for (i<-1 to 5){\n",
    "    println(i)  //difference between till and until\n",
    "}"
   ]
  },
  {
   "cell_type": "code",
   "execution_count": 3,
   "id": "9556daea-1959-4209-aba2-bda0bfc1b281",
   "metadata": {},
   "outputs": [
    {
     "name": "stdout",
     "output_type": "stream",
     "text": [
      "1\n",
      "2\n",
      "3\n",
      "4\n"
     ]
    }
   ],
   "source": [
    "for (i<-1 until 5){\n",
    "    println(i)\n",
    "}"
   ]
  },
  {
   "cell_type": "code",
   "execution_count": 17,
   "id": "27381bc5-eff4-4fc3-bccf-afbe3c66a38e",
   "metadata": {},
   "outputs": [
    {
     "name": "stdout",
     "output_type": "stream",
     "text": [
      "0\n",
      "1\n",
      "2\n",
      "3\n",
      "4\n",
      "do while now\n",
      "5\n",
      "4\n",
      "3\n",
      "2\n",
      "1\n"
     ]
    },
    {
     "data": {
      "text/plain": [
       "i: Int = 0\n"
      ]
     },
     "execution_count": 17,
     "metadata": {},
     "output_type": "execute_result"
    }
   ],
   "source": [
    "var i = 0  //OR var i: Int=0\n",
    "while (i<5){\n",
    "    print(i+\"\\n\") //without /n it prints them in one line, so either do \\n or println\n",
    "    i = i + 1\n",
    "}\n",
    "println(\"do while now\")\n",
    "do {\n",
    "    println(i)\n",
    "    i = i-1\n",
    "}while(i>0)"
   ]
  },
  {
   "cell_type": "code",
   "execution_count": 18,
   "id": "908ed5aa-10cd-4ab7-901f-18fec0f55c5c",
   "metadata": {},
   "outputs": [
    {
     "name": "stdout",
     "output_type": "stream",
     "text": [
      "LOSER"
     ]
    }
   ],
   "source": [
    "//i=5 OR var i=5 OR nothing and it will get previous cell's i value\n",
    "if(i==0){\n",
    "    print(\"LOSER\")}\n",
    "else if(i==5){\n",
    "    print(\"HMMM\")}\n",
    "else{print(\"WINNER\")}"
   ]
  },
  {
   "cell_type": "markdown",
   "id": "2820b3d7-b530-41bc-8a2f-163c3a7ed4f0",
   "metadata": {},
   "source": [
    "## Collections"
   ]
  },
  {
   "cell_type": "markdown",
   "id": "aa025a2b-129e-47f2-b66e-627a8ac22c60",
   "metadata": {},
   "source": [
    "Always use immutable values by default, unless you know for certain they need to be mutable."
   ]
  },
  {
   "cell_type": "markdown",
   "id": "edd2e2cb-5286-4024-b4d0-6313b02094c5",
   "metadata": {
    "jp-MarkdownHeadingCollapsed": true,
    "tags": []
   },
   "source": [
    "### Arrays"
   ]
  },
  {
   "cell_type": "code",
   "execution_count": 46,
   "id": "93336a57-c052-4c0e-baaa-2da350378b4a",
   "metadata": {},
   "outputs": [
    {
     "name": "stdout",
     "output_type": "stream",
     "text": [
      "3\n",
      "[I@3d170d05\n"
     ]
    },
    {
     "data": {
      "text/plain": [
       "ar: Array[Int] = Array(1, 2, 4)\n"
      ]
     },
     "execution_count": 46,
     "metadata": {},
     "output_type": "execute_result"
    }
   ],
   "source": [
    "val ar = Array(1,2,3)  //OR val ar = new Array[Int](3) OR val ar:Array[Int] = new Array[Int](3)\n",
    "println(ar(2))\n",
    "ar(2)=4\n",
    "println(ar)  //MUTABLE but of specific size"
   ]
  },
  {
   "cell_type": "markdown",
   "id": "894a925d-2485-43c0-a9c6-f0af21d8271f",
   "metadata": {
    "jp-MarkdownHeadingCollapsed": true,
    "tags": []
   },
   "source": [
    "### Lists"
   ]
  },
  {
   "cell_type": "code",
   "execution_count": 48,
   "id": "7c37462a-06e6-482d-8fd3-c55374b0eb33",
   "metadata": {},
   "outputs": [
    {
     "name": "stdout",
     "output_type": "stream",
     "text": [
      "List(5, 6, 7)List(5, 6, 7, 4)"
     ]
    },
    {
     "data": {
      "text/plain": [
       "li: List[Int] = List(1, 2, 3)\n",
       "li2: List[Int] = List(5, 6, 7, 4)\n",
       "li2: List[Int] = List(5, 6, 7, 4)\n",
       "li4: List[Int] = List(4, 5, 6, 7, 4)\n",
       "li5: List[Int] = List(1, 2, 3, 5, 6, 7, 4)\n"
      ]
     },
     "execution_count": 48,
     "metadata": {},
     "output_type": "execute_result"
    }
   ],
   "source": [
    "val li = List(1,2,3)\n",
    "var li2 = 5 :: 6 :: 7 ::Nil //2nd way to define list: Nil is necessary\n",
    "print(li2)\n",
    "li2 = li2:+4  //append, if we define a list as val then the lists would be immutable on size too so it has to be assigned to another val or non (e.g., return value)\n",
    "print(li2)\n",
    "val li4 = 4 :: li2  //add at the beginnig of the list\n",
    "val li5 = li ::: li2  //concatenate\n",
    "//li2(2)=8 cannot happen because lists are IMMUTABLE"
   ]
  },
  {
   "cell_type": "markdown",
   "id": "108ce11a-4656-438c-ae13-c5b70d1070e9",
   "metadata": {
    "jp-MarkdownHeadingCollapsed": true,
    "tags": []
   },
   "source": [
    "### Sets"
   ]
  },
  {
   "cell_type": "code",
   "execution_count": 63,
   "id": "4f278634-cc26-48bb-b566-9b8e16fb5e0e",
   "metadata": {},
   "outputs": [
    {
     "name": "stdout",
     "output_type": "stream",
     "text": [
      "true\n",
      "true\n",
      "false\n"
     ]
    },
    {
     "data": {
      "text/plain": [
       "se: scala.collection.immutable.Set[Int] = Set(1, 2, 3)\n",
       "se2: scala.collection.immutable.Set[Int] = Set(1, 2, 3, 0)\n",
       "se3: scala.collection.immutable.Set[Int] = Set(1, 2, 3)\n"
      ]
     },
     "execution_count": 63,
     "metadata": {},
     "output_type": "execute_result"
    }
   ],
   "source": [
    "val se = Set(1,2,3)\n",
    "val se2 = se + 0 //because it's a var, if val it wouldnt and would need another val\n",
    "val se3 = se2 - 0\n",
    "println(se.contains(2))\n",
    "println(se==se2 || se==se3)\n",
    "println(se==se2 && se==se3)"
   ]
  },
  {
   "cell_type": "markdown",
   "id": "da84d3f2-e6dc-492a-83f4-4d228c04fbc1",
   "metadata": {
    "jp-MarkdownHeadingCollapsed": true,
    "tags": []
   },
   "source": [
    "### Map/Dictionary"
   ]
  },
  {
   "cell_type": "code",
   "execution_count": 27,
   "id": "3c546f28-c005-48c5-8f96-e62496236f1c",
   "metadata": {},
   "outputs": [
    {
     "name": "stdout",
     "output_type": "stream",
     "text": [
      "Map(name -> Antonios, surname -> Mantzaris)\n",
      "(Antonios,25,Some(Mantzaris))\n",
      "None\n",
      "(Set(age, name, surname),HashMap(25, Antonios, Mantzaris))\n"
     ]
    },
    {
     "data": {
      "text/plain": [
       "ma: scala.collection.mutable.Map[String,String] = Map(age -> 25, name -> Antonios, surname -> Mantzaris)\n",
       "ma: scala.collection.mutable.Map[String,String] = Map(age -> 25, name -> Antonios, surname -> Mantzaris)\n"
      ]
     },
     "execution_count": 27,
     "metadata": {},
     "output_type": "execute_result"
    }
   ],
   "source": [
    "//Immutable\n",
    "var ma = Map(\"name\"->\"Antonios\",\"surname\"->\"Mantzaris\")\n",
    "println(ma)\n",
    "ma = ma + (\"age\"->\"25\") //values must be of the same type\n",
    "println(ma(\"name\"),ma(\"age\").toInt, ma.get(\"surname\")) //get returns a Some type\n",
    "\n",
    "println(ma.get(\"occupation\").getOrElse(\"Mathematician\"))\n",
    "\n",
    "println(ma.keys,ma.values)"
   ]
  },
  {
   "cell_type": "code",
   "execution_count": 11,
   "id": "1e57cd56-84ad-413b-8ccd-8cacd95686f6",
   "metadata": {},
   "outputs": [
    {
     "name": "stdout",
     "output_type": "stream",
     "text": [
      "Map(name -> Antonios, surname -> Mantzaris)\n",
      "(Antonios,25)\n",
      "One year later\n",
      "Map(age -> 26, name -> Antonios, surname -> Mantzaris)\n"
     ]
    },
    {
     "data": {
      "text/plain": [
       "import scala.collection.mutable.Map\n",
       "mam: scala.collection.mutable.Map[String,String] = Map(age -> 26, name -> Antonios, surname -> Mantzaris)\n",
       "mam: scala.collection.mutable.Map[String,String] = Map(age -> 26, name -> Antonios, surname -> Mantzaris)\n"
      ]
     },
     "execution_count": 11,
     "metadata": {},
     "output_type": "execute_result"
    }
   ],
   "source": [
    "//mutable\n",
    "import scala.collection.mutable.Map\n",
    "var mam = Map(\"name\"->\"Antonios\",\"surname\"->\"Mantzaris\")\n",
    "println(mam)\n",
    "mam = mam + (\"age\"->\"25\") //values must be of the same type\n",
    "println(mam(\"name\"),mam(\"age\").toInt)\n",
    "println(\"One year later\")\n",
    "mam(\"age\")=(25+1).toString\n",
    "println(mam)"
   ]
  },
  {
   "cell_type": "markdown",
   "id": "1272147c-7276-4e33-bd99-b053ef925f77",
   "metadata": {
    "jp-MarkdownHeadingCollapsed": true,
    "tags": []
   },
   "source": [
    "### Tuple (different types)"
   ]
  },
  {
   "cell_type": "code",
   "execution_count": 9,
   "id": "ce63454e-f72f-4465-b233-e118106aee6a",
   "metadata": {},
   "outputs": [
    {
     "name": "stdout",
     "output_type": "stream",
     "text": [
      "(1,Boh,(age,25))\n",
      "((age,25),25)\n"
     ]
    },
    {
     "data": {
      "text/plain": [
       "t: (Int, String, (String, Int)) = (1,Boh,(age,25))\n"
      ]
     },
     "execution_count": 9,
     "metadata": {},
     "output_type": "execute_result"
    }
   ],
   "source": [
    "val t = Tuple3(1,\"Boh\",\"age\"->25)\n",
    "println(t)\n",
    "println(t._3,t._3._2)"
   ]
  },
  {
   "cell_type": "markdown",
   "id": "a4401355-d094-4051-a8a3-0ddc6c1a2c58",
   "metadata": {
    "jp-MarkdownHeadingCollapsed": true,
    "tags": []
   },
   "source": [
    "### Either"
   ]
  },
  {
   "cell_type": "code",
   "execution_count": 45,
   "id": "bf267001-b860-4122-9eb8-2538c1f5f47e",
   "metadata": {},
   "outputs": [
    {
     "data": {
      "text/plain": [
       "<console>:26: warning: A try without a catch or finally is equivalent to putting its body in a block; no exceptions are handled.\n",
       "       def summation2(a:Double,b:Double):Either[Int, Double]=try{   //for when you don't know what to return (I dont get it)\n",
       "                                                             ^\n",
       "summation2: (a: Double, b: Double)Either[Int,Double]\n"
      ]
     },
     "execution_count": 45,
     "metadata": {},
     "output_type": "execute_result"
    }
   ],
   "source": [
    "def summation2(a:Double,b:Double):Either[Int, Double]=try{   //for when you don't know what to return (I dont get it)\n",
    "    val c: Double=1\n",
    "    val st = a+b-c \n",
    "    println(st.toInt)\n",
    "    Left(st.toInt)\n",
    "    match{\n",
    "        case _ => Right(st)\n",
    "    }\n",
    "}"
   ]
  },
  {
   "cell_type": "code",
   "execution_count": 46,
   "id": "83b48b1f-d723-45f8-a1fc-eff2c00e31a3",
   "metadata": {},
   "outputs": [
    {
     "name": "stdout",
     "output_type": "stream",
     "text": [
      "5\n"
     ]
    },
    {
     "data": {
      "text/plain": [
       "res30: Either[Int,Double] = Right(5.0)\n"
      ]
     },
     "execution_count": 46,
     "metadata": {},
     "output_type": "execute_result"
    }
   ],
   "source": [
    "summation2(2.3,3.7)"
   ]
  },
  {
   "cell_type": "markdown",
   "id": "d415ddd4-2109-4787-8f07-43cddaf095d8",
   "metadata": {
    "jp-MarkdownHeadingCollapsed": true,
    "tags": []
   },
   "source": [
    "## Functional Combinators (map, foreach, filter, zip, partition, find, drop, fold, flatten, flatMap)"
   ]
  },
  {
   "cell_type": "code",
   "execution_count": 33,
   "id": "0fca318f-6cb5-404d-b3bc-bc1fc5345644",
   "metadata": {},
   "outputs": [
    {
     "name": "stdout",
     "output_type": "stream",
     "text": [
      "List(1, 4, 9, 16)\n"
     ]
    },
    {
     "data": {
      "text/plain": [
       "lista: List[Int] = List(1, 2, 3, 4)\n",
       "power: List[Int] = List(1, 4, 9, 16)\n",
       "super_power: (i: Int)Int\n",
       "res30: List[Int] = List(1, 4, 9, 16)\n"
      ]
     },
     "execution_count": 33,
     "metadata": {},
     "output_type": "execute_result"
    }
   ],
   "source": [
    "val lista = List(1,2,3,4)\n",
    "val power = lista.map((i:Int)=>scala.math.pow(i,2).toInt) //!scala.math.pow! map((input)=>output function\n",
    "//val power = lista.map(scala.math.pow(_,2).toInt) \n",
    "println(power)\n",
    "\n",
    "def super_power (i:Int): Int = scala.math.pow(i,2).toInt\n",
    "lista.map(super_power)  //define function at the time as before OR use a predefined function"
   ]
  },
  {
   "cell_type": "code",
   "execution_count": 24,
   "id": "cb48bfc0-caa4-44cd-8290-f1a7d8f1ef94",
   "metadata": {},
   "outputs": [
    {
     "name": "stdout",
     "output_type": "stream",
     "text": [
      "()\n",
      "1\n",
      "2\n",
      "3\n",
      "4\n"
     ]
    }
   ],
   "source": [
    "println(lista.foreach((i:Int)=>scala.math.pow(i,2).toInt))  //like map but returns nothing\n",
    "lista.foreach(println) "
   ]
  },
  {
   "cell_type": "code",
   "execution_count": 49,
   "id": "15beb8d3-44b9-43c6-abb8-db6696ed7545",
   "metadata": {},
   "outputs": [
    {
     "data": {
      "text/plain": [
       "ara: Array[Int] = Array(1, 2, 3, 4)\n",
       "res46: Array[Int] = Array(2, 4)\n"
      ]
     },
     "execution_count": 49,
     "metadata": {},
     "output_type": "execute_result"
    }
   ],
   "source": [
    "lista.filter((i:Int)=>i%2==0)\n",
    "//val ara = Array(1,2,3,4)\n",
    "//ara.filter(_%2==0)   //works with structures other than lists\n",
    "//lista.filter(_%2==0)"
   ]
  },
  {
   "cell_type": "code",
   "execution_count": 26,
   "id": "52f1e139-c3b1-4035-9c4b-aac2f39fe45e",
   "metadata": {},
   "outputs": [
    {
     "data": {
      "text/plain": [
       "listb: List[Int] = List(5, 6, 7, 8)\n",
       "res23: List[(Int, Int)] = List((1,5), (2,6), (3,7), (4,8))\n"
      ]
     },
     "execution_count": 26,
     "metadata": {},
     "output_type": "execute_result"
    }
   ],
   "source": [
    "val listb = List(5,6,7,8)\n",
    "lista.zip(listb)"
   ]
  },
  {
   "cell_type": "code",
   "execution_count": 30,
   "id": "8a0bf849-4df7-4d6f-9950-0a46807351dd",
   "metadata": {},
   "outputs": [
    {
     "data": {
      "text/plain": [
       "res27: (List[Int], List[Int]) = (List(2, 4),List(1, 3))\n"
      ]
     },
     "execution_count": 30,
     "metadata": {},
     "output_type": "execute_result"
    }
   ],
   "source": [
    "lista.partition((i:Int)=>i%2==0) //partitions the list according to the given condition\n",
    "lista.partition(_%2==0) //same result"
   ]
  },
  {
   "cell_type": "code",
   "execution_count": 34,
   "id": "f0844600-1cf6-462a-b302-0e785dde88ac",
   "metadata": {},
   "outputs": [
    {
     "data": {
      "text/plain": [
       "res31: Option[Int] = Some(2)\n"
      ]
     },
     "execution_count": 34,
     "metadata": {},
     "output_type": "execute_result"
    }
   ],
   "source": [
    "lista.find(_%2==0) //the first element that matches the condition"
   ]
  },
  {
   "cell_type": "code",
   "execution_count": 48,
   "id": "58aae4b1-d6b0-4f67-8d7a-a6fa22b2ecb4",
   "metadata": {},
   "outputs": [
    {
     "name": "stdout",
     "output_type": "stream",
     "text": [
      "List(4, 5, 6, 7, 8, 9, 10)\n"
     ]
    },
    {
     "data": {
      "text/plain": [
       "list_drop: List[Int] = List(1, 2, 3, 4, 5, 6, 7, 8, 9, 10)\n",
       "res45: List[Int] = List(5, 6, 7, 8, 9, 10)\n"
      ]
     },
     "execution_count": 48,
     "metadata": {},
     "output_type": "execute_result"
    }
   ],
   "source": [
    "val list_drop = List(1,2,3,4,5,6,7,8,9,10)\n",
    "println(list_drop.drop(3)) //drops the first 3 elemenents\n",
    "list_drop.dropWhile(_%5!=0) //drop untill condition is not true"
   ]
  },
  {
   "cell_type": "code",
   "execution_count": 55,
   "id": "8299bd54-398c-4613-b7bb-176df3de11b3",
   "metadata": {},
   "outputs": [
    {
     "name": "stdout",
     "output_type": "stream",
     "text": [
      "i: 1 output: 1\n",
      "i: 2 output: 1\n",
      "i: 3 output: 2\n",
      "i: 4 output: 6\n"
     ]
    },
    {
     "data": {
      "text/plain": [
       "res52: Int = 24\n"
      ]
     },
     "execution_count": 55,
     "metadata": {},
     "output_type": "execute_result"
    }
   ],
   "source": [
    "lista.foldLeft(1) { (outp, i) =>   //Left means from the left to the right of the list, 1 is the intial value of output, i corresponds to the values of the list\n",
    "println(\"i: \" + i + \" output: \" + outp)\n",
    "i * outp  //run over a list and compute something from its elements/suitable to recursion\n",
    "}"
   ]
  },
  {
   "cell_type": "code",
   "execution_count": 58,
   "id": "54c6dcd4-6a75-40e8-b4de-fb18f7fec190",
   "metadata": {},
   "outputs": [
    {
     "data": {
      "text/plain": [
       "res55: List[Int] = List(1, 2, 3, 4, 5, 6, 7, 8)\n"
      ]
     },
     "execution_count": 58,
     "metadata": {},
     "output_type": "execute_result"
    }
   ],
   "source": [
    "List(lista,listb).flatten //List(List(1,2,3,4),List(5,6,7,8)), also with Array(lista,listb) etc"
   ]
  },
  {
   "cell_type": "code",
   "execution_count": 60,
   "id": "cbb35310-6f63-45a2-ae8b-b865bbb2cc9b",
   "metadata": {},
   "outputs": [
    {
     "data": {
      "text/plain": [
       "res57: List[Int] = List(0, 1, 2, 3, 4, 5, 6, 7)\n"
      ]
     },
     "execution_count": 60,
     "metadata": {},
     "output_type": "execute_result"
    }
   ],
   "source": [
    "List(lista,listb).flatMap((x=>x.map(_-1)))  //applies flatten and then the given function"
   ]
  },
  {
   "cell_type": "markdown",
   "id": "f3a5c520-720c-4700-abed-a7a400227e8b",
   "metadata": {
    "jp-MarkdownHeadingCollapsed": true,
    "tags": []
   },
   "source": [
    "## Classes"
   ]
  },
  {
   "cell_type": "markdown",
   "id": "23b821dc-9da6-4999-97ec-946580c29390",
   "metadata": {},
   "source": [
    "Everything in Scala is an object, including numbers. Functions are also objects, so it is possible to pass functions as arguments, to store\n",
    "them in variables, and to return them from other functions"
   ]
  },
  {
   "cell_type": "code",
   "execution_count": 73,
   "id": "3632fdf9-fd55-45ae-94ed-adb97e4da966",
   "metadata": {},
   "outputs": [
    {
     "name": "stdout",
     "output_type": "stream",
     "text": [
      "Kcalc\n"
     ]
    },
    {
     "data": {
      "text/plain": [
       "defined class Calculator\n",
       "calc1: Calculator = Calculator@19458ee4\n"
      ]
     },
     "execution_count": 73,
     "metadata": {},
     "output_type": "execute_result"
    }
   ],
   "source": [
    "class Calculator (val name:String=\"Kcalc\"){\n",
    "    def summation(a:Int,b:Int):Int=a+b\n",
    "}\n",
    "val calc1 = new Calculator\n",
    "calc1.summation(1,2)\n",
    "println(calc1.name)"
   ]
  },
  {
   "cell_type": "markdown",
   "id": "186f2148-80a2-4291-9d25-dfabc83f1028",
   "metadata": {},
   "source": [
    "### Extend class"
   ]
  },
  {
   "cell_type": "code",
   "execution_count": 87,
   "id": "9ca5df68-5726-4d30-8724-aec7ba16797b",
   "metadata": {},
   "outputs": [
    {
     "name": "stdout",
     "output_type": "stream",
     "text": [
      "5---Kcalc\n",
      "6\n"
     ]
    },
    {
     "data": {
      "text/plain": [
       "defined class Calculator2\n",
       "calc2: Calculator2 = Calculator2@6784e7a8\n"
      ]
     },
     "execution_count": 87,
     "metadata": {},
     "output_type": "execute_result"
    }
   ],
   "source": [
    "class Calculator2  extends Calculator{ //can change name by input when called-->class Calculator2(_name)  extends Calculator(_name)\n",
    "    def productt(a:Int, b:Int):Int=a*b  //EXTEND OTHER CLASS WITH NEW METHOD\n",
    "}\n",
    "val calc2 = new Calculator2\n",
    "println(calc2.summation(2,3)+\"---\"+calc2.name)\n",
    "println(calc2.productt(2,3))"
   ]
  },
  {
   "cell_type": "markdown",
   "id": "bac50ea1-be44-4a64-b7c0-be90a3d9eb3e",
   "metadata": {},
   "source": [
    "### Singleton objects (can have only one instance)"
   ]
  },
  {
   "cell_type": "code",
   "execution_count": 88,
   "id": "b43576d6-4fff-426a-976f-e2fa051a5033",
   "metadata": {},
   "outputs": [
    {
     "name": "stdout",
     "output_type": "stream",
     "text": [
      "Point x location: 10\n",
      "Point y location: 20\n"
     ]
    },
    {
     "data": {
      "text/plain": [
       "defined class Point\n",
       "defined object SpecialPoint\n"
      ]
     },
     "execution_count": 88,
     "metadata": {},
     "output_type": "execute_result"
    }
   ],
   "source": [
    "class Point(val x: Int, val y: Int) {\n",
    "    def printPoint {\n",
    "        println(s\"Point x location: $x\");\n",
    "        println(s\"Point y location: $y\");\n",
    "    }\n",
    "}\n",
    "object SpecialPoint extends Point(10, 20)  //object SpecialPoint is the SIngleton\n",
    "SpecialPoint.printPoint"
   ]
  },
  {
   "cell_type": "markdown",
   "id": "0eea3f01-fd98-4bde-b52c-316674997db4",
   "metadata": {},
   "source": [
    "### Abstract Classes"
   ]
  },
  {
   "cell_type": "code",
   "execution_count": 92,
   "id": "576f05f2-9923-4535-b6b1-da3a97e2cfc3",
   "metadata": {},
   "outputs": [
    {
     "data": {
      "text/plain": [
       "defined class Shape\n",
       "defined class Circle\n",
       "c: Circle = Circle@283ec4b6\n",
       "res81: Int = 12\n"
      ]
     },
     "execution_count": 92,
     "metadata": {},
     "output_type": "execute_result"
    }
   ],
   "source": [
    "abstract class Shape {\n",
    "    // subclass should define this\n",
    "    def getArea(): Int\n",
    "}\n",
    "class Circle(r: Int) extends Shape {\n",
    "override def getArea(): Int = { r * r * 3 }  //should be of the same type as the function it overrides\n",
    "}\n",
    "//val s = new Shape // error: class Shape is abstract\n",
    "val c = new Circle(2)\n",
    "c.getArea"
   ]
  },
  {
   "cell_type": "markdown",
   "id": "55f4a830-3b14-418c-a9c5-bdb9fa5f4a6b",
   "metadata": {},
   "source": [
    "### Traits (build class from its traits/similar to extend)"
   ]
  },
  {
   "cell_type": "code",
   "execution_count": 114,
   "id": "eaae51dc-b1e1-4028-89b9-e575d3648f08",
   "metadata": {},
   "outputs": [
    {
     "name": "stdout",
     "output_type": "stream",
     "text": [
      "After I bought 2 same cars I have 4 in total\n",
      "ferrari---red----2----call method 4\n"
     ]
    },
    {
     "data": {
      "text/plain": [
       "defined trait brand\n",
       "defined trait color\n",
       "defined trait quantity\n",
       "defined class stock\n",
       "apoth: stock = stock@732897da\n"
      ]
     },
     "execution_count": 114,
     "metadata": {},
     "output_type": "execute_result"
    }
   ],
   "source": [
    "trait brand{\n",
    "    val name: String\n",
    "}\n",
    "\n",
    "trait color{\n",
    "    val col:String\n",
    "}\n",
    "\n",
    "trait quantity{\n",
    "    val num:Int\n",
    "    def buy(i:Int):Int=num+i\n",
    "}\n",
    "\n",
    "\n",
    "class stock extends brand with color with quantity{\n",
    "    val name=\"ferrari\"\n",
    "    val col=\"red\"\n",
    "    val num=2\n",
    "    println(\"After I bought 2 same cars I have \"+buy(2)+\" in total\")\n",
    "}\n",
    "\n",
    "val apoth = new stock\n",
    "println(apoth.name+\"---\"+apoth.col+\"----\"+apoth.num+\"----call method \"+apoth.buy(2))"
   ]
  },
  {
   "cell_type": "markdown",
   "id": "8a8bd847-115e-435d-8d87-90d2d4d5b36a",
   "metadata": {},
   "source": [
    "### Case Classes"
   ]
  },
  {
   "cell_type": "code",
   "execution_count": 119,
   "id": "eeae38cc-193f-4f1e-811d-6dbb45edd632",
   "metadata": {},
   "outputs": [
    {
     "data": {
      "text/plain": [
       "defined class car\n",
       "nice_car: car = car(ferrari,roma,2020)\n",
       "res97: Int = 2020\n"
      ]
     },
     "execution_count": 119,
     "metadata": {},
     "output_type": "execute_result"
    }
   ],
   "source": [
    "case class car (brand:String, model:String, year:Int)\n",
    "val nice_car = car(\"ferrari\", \"roma\", 2020)\n",
    "nice_car.year"
   ]
  },
  {
   "cell_type": "code",
   "execution_count": 122,
   "id": "ca91c68b-ce73-479d-bdc0-b47d256070c5",
   "metadata": {},
   "outputs": [
    {
     "data": {
      "text/plain": [
       "car_tinder: (caro: car)String\n",
       "res99: String = super car\n"
      ]
     },
     "execution_count": 122,
     "metadata": {},
     "output_type": "execute_result"
    }
   ],
   "source": [
    "//usefull for pattern matching and Spark\n",
    "def car_tinder(caro:car) = caro match{  //input an object, output a string \n",
    "    case car(\"fiat\",\"pundo\",2000)=>\"old and cheap\"\n",
    "    case car(\"toyota\",\"avensis\",2010)=>\"family car\"\n",
    "    case car(\"ferrari\",\"roma\",2020)=>\"super car\"\n",
    "    case _ =>\"unknown\"\n",
    "}\n",
    "car_tinder(nice_car)"
   ]
  },
  {
   "cell_type": "code",
   "execution_count": null,
   "id": "45582008-a872-4ef5-acea-66eddbb19c02",
   "metadata": {},
   "outputs": [],
   "source": []
  }
 ],
 "metadata": {
  "kernelspec": {
   "display_name": "spylon-kernel",
   "language": "scala",
   "name": "spylon-kernel"
  },
  "language_info": {
   "codemirror_mode": "text/x-scala",
   "file_extension": ".scala",
   "help_links": [
    {
     "text": "MetaKernel Magics",
     "url": "https://metakernel.readthedocs.io/en/latest/source/README.html"
    }
   ],
   "mimetype": "text/x-scala",
   "name": "scala",
   "pygments_lexer": "scala",
   "version": "0.4.1"
  }
 },
 "nbformat": 4,
 "nbformat_minor": 5
}
